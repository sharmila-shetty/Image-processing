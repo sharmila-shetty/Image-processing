{
 "cells": [
  {
   "cell_type": "code",
   "execution_count": 40,
   "id": "890c21f1",
   "metadata": {},
   "outputs": [],
   "source": [
    "from PIL import Image,ImageDraw,ImageFilter\n",
    "im1=Image.open('ant.jpg')\n",
    "im2=Image.open('earth.jpg')\n",
    "mask_im=Image.new(\"L\",im2.size,0)\n",
    "draw=ImageDraw.Draw(mask_im)\n",
    "draw.ellipse((690,240,1370,900),fill=225)\n",
    "mask_im_blur=mask_im.filter(ImageFilter.GaussianBlur(10))\n",
    "back_im=im1.copy()\n",
    "back_im.paste(im2,(0,0),mask_im_blur)\n",
    "back_im.show()"
   ]
  },
  {
   "cell_type": "code",
   "execution_count": 46,
   "id": "198c5544",
   "metadata": {},
   "outputs": [],
   "source": [
    "#Upsampling\n",
    "\n",
    "import cv2\n",
    "\n",
    "image = cv2.imread('red.jpg')\n",
    "cv2.imshow('image before pyrUp:',image)\n",
    "image = cv2.pyrUp(image)\n",
    "cv2.imshow('image after pyrUp:',image)\n",
    "cv2.imshow('UpSample', image)\n",
    "cv2.waitKey(0)\n",
    "cv2.destroyAllWindows()"
   ]
  },
  {
   "cell_type": "code",
   "execution_count": 47,
   "id": "a75e2e52",
   "metadata": {},
   "outputs": [],
   "source": [
    "#Downsampling\n",
    "\n",
    "import cv2\n",
    "image = cv2.imread('red.jpg')\n",
    "cv2.imshow('image before pyrDown:',image)\n",
    "image = cv2.pyrDown(image)\n",
    "cv2.imshow('image after pyrDown:',image)\n",
    "cv2.imshow('UpSample', image)\n",
    "cv2.waitKey(0)\n",
    "cv2.destroyAllWindows()"
   ]
  },
  {
   "cell_type": "code",
   "execution_count": null,
   "id": "b0146b55",
   "metadata": {},
   "outputs": [],
   "source": []
  }
 ],
 "metadata": {
  "kernelspec": {
   "display_name": "Python 3 (ipykernel)",
   "language": "python",
   "name": "python3"
  },
  "language_info": {
   "codemirror_mode": {
    "name": "ipython",
    "version": 3
   },
   "file_extension": ".py",
   "mimetype": "text/x-python",
   "name": "python",
   "nbconvert_exporter": "python",
   "pygments_lexer": "ipython3",
   "version": "3.9.7"
  }
 },
 "nbformat": 4,
 "nbformat_minor": 5
}
