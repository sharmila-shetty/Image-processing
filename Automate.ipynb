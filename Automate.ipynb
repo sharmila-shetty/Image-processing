{
 "cells": [
  {
   "cell_type": "code",
   "execution_count": 1,
   "id": "1f9b2730",
   "metadata": {},
   "outputs": [],
   "source": [
    "from PIL import Image\n",
    "import os"
   ]
  },
  {
   "cell_type": "code",
   "execution_count": 2,
   "id": "12fe1600",
   "metadata": {},
   "outputs": [
    {
     "data": {
      "text/plain": [
       "'C:\\\\Users\\\\User\\\\Image Processing'"
      ]
     },
     "execution_count": 2,
     "metadata": {},
     "output_type": "execute_result"
    }
   ],
   "source": [
    "os.getcwd()"
   ]
  },
  {
   "cell_type": "code",
   "execution_count": 3,
   "id": "1626305d",
   "metadata": {},
   "outputs": [
    {
     "data": {
      "text/plain": [
       "['.ipynb_checkpoints',\n",
       " 'ant.jpg',\n",
       " 'blue flower.jpeg',\n",
       " 'blue flower.jpg',\n",
       " 'blue.jpeg',\n",
       " 'blurred.tif',\n",
       " 'cat_damaged.png',\n",
       " 'cat_inpainted.png',\n",
       " 'cat_mask.png',\n",
       " 'Contours .ipynb',\n",
       " 'Contours....ipynb',\n",
       " 'crop.png',\n",
       " 'dice.jpg',\n",
       " 'dices.png',\n",
       " 'display images from folder.ipynb',\n",
       " 'dog.jpg',\n",
       " 'earth.jpg',\n",
       " 'fetch + rotate+ save to another folder.ipynb',\n",
       " 'filter.png',\n",
       " 'flower 1.jpg',\n",
       " 'food.jpg',\n",
       " 'food1.jpg',\n",
       " 'frame.png',\n",
       " 'Image Enhancement.ipynb',\n",
       " 'Image manipulation.ipynb',\n",
       " 'Image Restoration.ipynb',\n",
       " 'Image_from_array.png',\n",
       " 'intensity transformation.ipynb',\n",
       " 'lab1.ipynb',\n",
       " 'lab2.ipynb',\n",
       " 'lab3.ipynb',\n",
       " 'lab4.ipynb',\n",
       " 'Lab5.ipynb',\n",
       " 'lab6.ipynb',\n",
       " 'logo removing.ipynb',\n",
       " 'logoo.png',\n",
       " 'logooo.png',\n",
       " 'Matrix to image.ipynb',\n",
       " 'Montage.ipynb',\n",
       " 'montage.png',\n",
       " 'nature.jpg',\n",
       " 'Noisy+segmentation.ipynb',\n",
       " 'p2.jpg',\n",
       " 'p3.jpg',\n",
       " 'p4.png',\n",
       " 'p5.png',\n",
       " 'p6.jpg',\n",
       " 'pdf.png',\n",
       " 'rabbit.jpg',\n",
       " 'red-roses.jpg',\n",
       " 'red.jpg',\n",
       " 'shapes.png',\n",
       " 'shh.jpeg',\n",
       " 'text_removed_image.jpg',\n",
       " 'tq.jpg',\n",
       " 'txt.jpeg',\n",
       " 'txt1.jpg',\n",
       " 'txt2.jpg',\n",
       " 'Untitled.ipynb',\n",
       " 'watermark.ipynb',\n",
       " 'watermark.png',\n",
       " 'wm.jpg']"
      ]
     },
     "execution_count": 3,
     "metadata": {},
     "output_type": "execute_result"
    }
   ],
   "source": [
    "# lists all the files and folders in the current working directory\n",
    "os.listdir()"
   ]
  },
  {
   "cell_type": "code",
   "execution_count": 4,
   "id": "aeaa4142",
   "metadata": {},
   "outputs": [
    {
     "name": "stdout",
     "output_type": "stream",
     "text": [
      "ant & .jpg\n",
      "blue flower & .jpg\n",
      "dice & .jpg\n",
      "dog & .jpg\n",
      "earth & .jpg\n",
      "flower 1 & .jpg\n",
      "food & .jpg\n",
      "food1 & .jpg\n",
      "nature & .jpg\n",
      "p2 & .jpg\n",
      "p3 & .jpg\n",
      "p6 & .jpg\n",
      "rabbit & .jpg\n",
      "red-roses & .jpg\n",
      "red & .jpg\n",
      "text_removed_image & .jpg\n",
      "tq & .jpg\n",
      "txt1 & .jpg\n",
      "txt2 & .jpg\n",
      "wm & .jpg\n"
     ]
    }
   ],
   "source": [
    "for f in os.listdir(\".\"):\n",
    "    if f.endswith(\".jpg\"):\n",
    "        i = Image.open(f)\n",
    "        fn, fext = os.path.splitext(f)\n",
    "        print(fn, \"&\", fext)"
   ]
  },
  {
   "cell_type": "code",
   "execution_count": 5,
   "id": "a8b89d7c",
   "metadata": {},
   "outputs": [],
   "source": [
    "# Creating new Directory using OS library\n",
    "os.mkdir('NewExtnsn')\n",
    "# Note: If you already have a directory with this name, you will get error."
   ]
  },
  {
   "cell_type": "code",
   "execution_count": 6,
   "id": "0ad7d3b9",
   "metadata": {},
   "outputs": [],
   "source": [
    "for f in os.listdir(\".\"):\n",
    "    if f.endswith(\".jpg\"):\n",
    "        i = Image.open(f)\n",
    "        fn, fext = os.path.splitext(f)\n",
    "        i.save(\"NewExtnsn/{}.pdf\".format(fn))"
   ]
  },
  {
   "cell_type": "code",
   "execution_count": 7,
   "id": "088c66a1",
   "metadata": {},
   "outputs": [],
   "source": [
    "# Creating new multiple Directories using OS library\n",
    "os.makedirs('resize//small')\n",
    "os.makedirs('resize//tiny')\n",
    "# Note: If you already have a directory with this name, you will get error."
   ]
  },
  {
   "cell_type": "code",
   "execution_count": 8,
   "id": "f3653811",
   "metadata": {},
   "outputs": [],
   "source": [
    "size_small = (600,600) # small images of 600 X 600 pixels\n",
    "size_tiny = (200,200)  # tiny images of 200 X 200 pixels\n",
    "for f in os.listdir(\".\"):\n",
    "    if f.endswith(\".jpg\"):\n",
    "        i = Image.open(f)\n",
    "        fn, fext = os.path.splitext(f)\n",
    "        i.thumbnail(size_small)\n",
    "        i.save(\"resize/small/{}_small{}\".format(fn, fext))\n",
    "        i.thumbnail(size_tiny)\n",
    "        i.save(\"resize/tiny/{}_tiny{}\".format(fn, fext))"
   ]
  },
  {
   "cell_type": "code",
   "execution_count": 9,
   "id": "3d7a1891",
   "metadata": {},
   "outputs": [],
   "source": [
    "# Creating new Directory using OS library\n",
    "os.mkdir('rotate')"
   ]
  },
  {
   "cell_type": "code",
   "execution_count": 10,
   "id": "78c7e1b2",
   "metadata": {},
   "outputs": [],
   "source": [
    "for f in os.listdir(\".\"):\n",
    "    if f.endswith(\".jpg\"):\n",
    "        i = Image.open(f)\n",
    "        fn, fext = os.path.splitext(f)\n",
    "        im = i.rotate(90)\n",
    "        im.save(\"rotate/{}_rot.{}\".format(fn, fext))"
   ]
  },
  {
   "cell_type": "code",
   "execution_count": null,
   "id": "fa2010d1",
   "metadata": {},
   "outputs": [],
   "source": []
  }
 ],
 "metadata": {
  "kernelspec": {
   "display_name": "Python 3 (ipykernel)",
   "language": "python",
   "name": "python3"
  },
  "language_info": {
   "codemirror_mode": {
    "name": "ipython",
    "version": 3
   },
   "file_extension": ".py",
   "mimetype": "text/x-python",
   "name": "python",
   "nbconvert_exporter": "python",
   "pygments_lexer": "ipython3",
   "version": "3.9.13"
  }
 },
 "nbformat": 4,
 "nbformat_minor": 5
}
