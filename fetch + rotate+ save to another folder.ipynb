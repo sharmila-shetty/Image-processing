{
 "cells": [
  {
   "cell_type": "code",
   "execution_count": 2,
   "id": "c6769ab5",
   "metadata": {},
   "outputs": [
    {
     "name": "stdout",
     "output_type": "stream",
     "text": [
      "C:/Users/User/Desktop/image\\invert_1.jfif\n",
      "C:/Users/User/Desktop/image\\invert_black.png\n",
      "C:/Users/User/Desktop/image\\invert_bottle.png\n",
      "C:/Users/User/Desktop/image\\invert_cat_damaged.png\n",
      "C:/Users/User/Desktop/image\\invert_cat_mask.png\n",
      "C:/Users/User/Desktop/image\\invert_crop.png\n",
      "C:/Users/User/Desktop/image\\invert_dog.jpg\n",
      "C:/Users/User/Desktop/image\\invert_dog.png\n",
      "C:/Users/User/Desktop/image\\invert_dog1.png\n",
      "C:/Users/User/Desktop/image\\invert_filter.png\n",
      "C:/Users/User/Desktop/image\\invert_flower 1.jpg\n",
      "C:/Users/User/Desktop/image\\invert_food.jpg\n",
      "C:/Users/User/Desktop/image\\invert_food1.jpg\n",
      "C:/Users/User/Desktop/image\\invert_frame.jpeg\n",
      "C:/Users/User/Desktop/image\\invert_frame.png\n",
      "C:/Users/User/Desktop/image\\invert_mobile.jfif\n",
      "C:/Users/User/Desktop/image\\invert_nature.jpg\n",
      "C:/Users/User/Desktop/image\\invert_oimage.png\n",
      "C:/Users/User/Desktop/image\\invert_p1.jfif\n",
      "C:/Users/User/Desktop/image\\invert_p2.jpg\n",
      "C:/Users/User/Desktop/image\\invert_p3.jpg\n",
      "C:/Users/User/Desktop/image\\invert_p4.png\n",
      "C:/Users/User/Desktop/image\\invert_p5.png\n",
      "C:/Users/User/Desktop/image\\invert_p6.jpg\n",
      "C:/Users/User/Desktop/image\\invert_pdf.png\n",
      "C:/Users/User/Desktop/image\\invert_rabbit.jpg\n",
      "C:/Users/User/Desktop/image\\invert_red-roses.jpg\n",
      "C:/Users/User/Desktop/image\\invert_red.jpg\n",
      "C:/Users/User/Desktop/image\\invert_shapes.png\n",
      "C:/Users/User/Desktop/image\\invert_shh.jpeg\n",
      "C:/Users/User/Desktop/image\\invert_text.jpeg\n",
      "C:/Users/User/Desktop/image\\invert_tq.jpg\n",
      "C:/Users/User/Desktop/image\\invert_txt.jpeg\n",
      "C:/Users/User/Desktop/image\\invert_txt1.jpg\n",
      "C:/Users/User/Desktop/image\\invert_txt2.jpg\n",
      "C:/Users/User/Desktop/image\\invert_watermark.png\n",
      "C:/Users/User/Desktop/image\\invert_ximage.png\n"
     ]
    }
   ],
   "source": [
    "from PIL import Image\n",
    "from PIL import ImageFilter\n",
    "import os\n",
    "\n",
    "def main():\n",
    "# path of the folder containing the raw images\n",
    "    inPath =\"C:/Users/User/Desktop/images\"\n",
    "\n",
    "# path of the folder that will contain the modified image\n",
    "    outPath =\"C:/Users/User/Desktop/image\"\n",
    "\n",
    "    for imagePath in os.listdir(inPath):\n",
    "# imagePath contains name of the image\n",
    "        inputPath = os.path.join(inPath, imagePath)\n",
    "\n",
    "# inputPath contains the full directory name\n",
    "        img = Image.open(inputPath)\n",
    "\n",
    "        fullOutPath = os.path.join(outPath, 'invert_'+imagePath)\n",
    "# fullOutPath contains the path of the output\n",
    "# image that needs to be generated\n",
    "        img.rotate(90).save(fullOutPath)\n",
    "\n",
    "        print(fullOutPath)\n",
    "\n",
    "# Driver Function\n",
    "if __name__ == '__main__':\n",
    "    main()"
   ]
  },
  {
   "cell_type": "code",
   "execution_count": null,
   "id": "f2203c64",
   "metadata": {},
   "outputs": [],
   "source": []
  }
 ],
 "metadata": {
  "kernelspec": {
   "display_name": "Python 3 (ipykernel)",
   "language": "python",
   "name": "python3"
  },
  "language_info": {
   "codemirror_mode": {
    "name": "ipython",
    "version": 3
   },
   "file_extension": ".py",
   "mimetype": "text/x-python",
   "name": "python",
   "nbconvert_exporter": "python",
   "pygments_lexer": "ipython3",
   "version": "3.9.13"
  }
 },
 "nbformat": 4,
 "nbformat_minor": 5
}
