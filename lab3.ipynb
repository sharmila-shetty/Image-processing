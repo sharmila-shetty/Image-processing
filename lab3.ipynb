{
 "cells": [
  {
   "cell_type": "code",
   "execution_count": 1,
   "id": "f6ae5938",
   "metadata": {},
   "outputs": [],
   "source": [
    "#bitwise operation\n",
    "import cv2\n",
    "img1=cv2.imread(\"dog.jpg\")\n",
    "img2=cv2.imread(\"rabbit.jpg\")\n",
    "\n",
    "bit_and = cv2.bitwise_and(img1,img2)\n",
    "cv2.imshow('AND',bit_and)\n",
    "\n",
    "bit_or = cv2.bitwise_or(img1,img2)\n",
    "cv2.imshow('OR',bit_or)\n",
    "\n",
    "bit_not = cv2.bitwise_not(img1)\n",
    "cv2.imshow('NOT',bit_not)\n",
    "\n",
    "bit_xor = cv2.bitwise_xor(img1,img2)\n",
    "cv2.imshow('XOR',bit_xor)\n",
    "\n",
    "cv2.waitKey(0)\n",
    "cv2.destroyAllWindows()\n"
   ]
  },
  {
   "cell_type": "code",
   "execution_count": 2,
   "id": "2ce79d39",
   "metadata": {},
   "outputs": [],
   "source": [
    "from PIL import Image, ImageDraw, ImageFilter\n",
    "\n",
    "im1 = Image.open('red.jpg')\n",
    "im2 = Image.open('p4.png')\n",
    "\n",
    "back_im = im1.copy()\n",
    "back_im.paste(im2, (100,50))\n",
    "\n",
    "back_im.show()"
   ]
  },
  {
   "cell_type": "code",
   "execution_count": 3,
   "id": "fd1fad92",
   "metadata": {},
   "outputs": [],
   "source": [
    "#MEDIAN FILTERING\n",
    "import cv2\n",
    "import numpy as np\n",
    "img_noisy1=cv2.imread(\"filter.png\",0)\n",
    "m,n=img_noisy1.shape\n",
    "img_new1=np.zeros([m,n])\n",
    "for i in range(1,m-1):\n",
    "    for j in range(1,n-1):\n",
    "        temp=[img_noisy1[i-1,j-1],img_noisy1[i-1,j],img_noisy1[i-1,j-1],img_noisy1[i-1,j+1],img_noisy1[i,j-1],img_noisy1[i,j],img_noisy1[i,j+1],img_noisy1[i+1,j-1],img_noisy1[i+1,j],img_noisy1[i+1,j+1]]\n",
    "        temp=sorted(temp)\n",
    "        img_new1[i,j]=temp[4]\n",
    "        img_new1=img_new1.astype(np.uint8)\n",
    "cv2.imshow(\"MEDIAN FILTERED IMAGE\",img_new1)\n",
    "cv2.waitKey(0)  \n",
    "cv2.destroyAllWindows()    "
   ]
  },
  {
   "cell_type": "code",
   "execution_count": null,
   "id": "f3e010bf",
   "metadata": {},
   "outputs": [],
   "source": []
  }
 ],
 "metadata": {
  "kernelspec": {
   "display_name": "Python 3 (ipykernel)",
   "language": "python",
   "name": "python3"
  },
  "language_info": {
   "codemirror_mode": {
    "name": "ipython",
    "version": 3
   },
   "file_extension": ".py",
   "mimetype": "text/x-python",
   "name": "python",
   "nbconvert_exporter": "python",
   "pygments_lexer": "ipython3",
   "version": "3.9.7"
  }
 },
 "nbformat": 4,
 "nbformat_minor": 5
}
