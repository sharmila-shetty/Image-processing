{
 "cells": [
  {
   "cell_type": "code",
   "execution_count": 38,
   "id": "2e8cd606",
   "metadata": {},
   "outputs": [],
   "source": [
    "# Low Pass SPatial Domain Filtering\n",
    "# to observe the blurring effect\n",
    "\n",
    "\n",
    "import cv2\n",
    "import numpy as np\n",
    "\n",
    "\n",
    "# Read the image\n",
    "img = cv2.imread('filter.png', 0)\n",
    "\n",
    "# Obtain number of rows and columns\n",
    "# of the image\n",
    "m,n = img.shape\n",
    "\n",
    "# Develop Averaging filter(3, 3) mask\n",
    "mask = np.ones([3, 3], dtype = int)\n",
    "mask = mask / 9\n",
    "\n",
    "# Convolve the 3X3 mask over the image\n",
    "img_new = np.zeros([m, n])\n",
    "\n",
    "for i in range(1, m-1):\n",
    "    for j in range(1, n-1):\n",
    "        temp = img[i-1, j-1]*mask[0, 0]+img[i-1, j]*mask[0, 1]+img[i-1, j + 1]*mask[0, 2]+img[i, j-1]*mask[1, 0]+ img[i, j]*mask[1, 1]+img[i, j + 1]*mask[1, 2]+img[i + 1, j-1]*mask[2, 0]+img[i + 1, j]*mask[2, 1]+img[i + 1, j + 1]*mask[2, 2]\n",
    "\n",
    "        img_new[i, j]= temp\n",
    "\n",
    "img_new = img_new.astype(np.uint8)\n",
    "cv2.imshow('blurred', img_new)\n",
    "cv2.waitKey(0)\n",
    "cv2.destroyAllWindows()"
   ]
  },
  {
   "cell_type": "code",
   "execution_count": 50,
   "id": "44f6e459",
   "metadata": {},
   "outputs": [],
   "source": [
    "# Importing Image module from PIL package\n",
    "from PIL import Image\n",
    "import PIL\n",
    "\n",
    "# creating a image object (main image)\n",
    "im1 = Image.open(\"dog.jpg\")\n",
    "\n",
    "# quantize a image\n",
    "im1 = im1.quantize(15)\n",
    "\n",
    "# to show specified image\n",
    "im1.show()\n"
   ]
  },
  {
   "cell_type": "code",
   "execution_count": 49,
   "id": "02fd5792",
   "metadata": {},
   "outputs": [],
   "source": [
    "import cv2\n",
    "import numpy as np\n",
    "\n",
    "#nearest neighbor interpolation\n",
    "img = cv2.imread('flower 1.jpg')\n",
    "near_img = cv2.resize(img,None, fx = 25, fy = 25, interpolation = cv2.INTER_NEAREST)\n",
    "cv2.imshow('Near',near_img)\n",
    "cv2.waitKey(0)\n",
    "cv2.destroyAllWindows()\n",
    "\n",
    "#bi-linear interpolation\n",
    "import cv2\n",
    "import numpy as np\n",
    "img = cv2.imread('flower 1.jpg')\n",
    "bilinear_img = cv2.resize(img,None, fx = 25, fy = 25, interpolation = cv2.INTER_LINEAR)\n",
    "cv2.imshow('Bilinear',bilinear_img)\n",
    "cv2.waitKey(0)\n",
    "cv2.destroyAllWindows()\n",
    "\n",
    "#bi-cubic interpolation\n",
    "import cv2\n",
    "import numpy as np\n",
    "img = cv2.imread('flower 1.jpg')\n",
    "bicubic_img = cv2.resize(img,None, fx = 25, fy = 25, interpolation = cv2.INTER_CUBIC)\n",
    "cv2.imshow('Bicubic',bicubic_img)\n",
    "cv2.waitKey(0)\n",
    "cv2.destroyAllWindows()"
   ]
  },
  {
   "cell_type": "code",
   "execution_count": null,
   "id": "970f3d59",
   "metadata": {},
   "outputs": [],
   "source": []
  },
  {
   "cell_type": "code",
   "execution_count": null,
   "id": "f786bb08",
   "metadata": {},
   "outputs": [],
   "source": []
  }
 ],
 "metadata": {
  "kernelspec": {
   "display_name": "Python 3 (ipykernel)",
   "language": "python",
   "name": "python3"
  },
  "language_info": {
   "codemirror_mode": {
    "name": "ipython",
    "version": 3
   },
   "file_extension": ".py",
   "mimetype": "text/x-python",
   "name": "python",
   "nbconvert_exporter": "python",
   "pygments_lexer": "ipython3",
   "version": "3.9.7"
  }
 },
 "nbformat": 4,
 "nbformat_minor": 5
}
